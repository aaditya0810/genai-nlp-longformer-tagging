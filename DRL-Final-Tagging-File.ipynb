{
 "cells": [
  {
   "cell_type": "code",
   "execution_count": null,
   "metadata": {
    "id": "TJp5i0qcmzQh"
   },
   "outputs": [],
   "source": [
    "#Aadi\n",
    "# Importing the relevant Libraries and mounting Google Drive. #\n",
    "print('-----------------------------------')\n",
    "print('Importing the relevant Libraries and mounting Google Drive.')\n",
    "!pip install pandas openpyxl\n",
    "from google.colab import drive\n",
    "drive.mount('/content/drive')\n",
    "print('Mounted Google Drive.')\n",
    "!pip install transformers\n",
    "!pip install xlsxwriter\n",
    "import torch.nn as nn\n",
    "from transformers import BertForSequenceClassification, BertTokenizer, BertModel, AdamW, get_linear_schedule_with_warmup\n",
    "import pandas as pd\n",
    "import time\n",
    "import pytz\n",
    "from datetime import datetime\n",
    "import torch\n",
    "import os\n",
    "import warnings\n",
    "warnings.filterwarnings('ignore')\n",
    "current_date = datetime.now().strftime('%Y-%m-%d')\n",
    "print('Libraries successfully imported.')\n",
    "print('-----------------------------------')"
   ]
  },
  {
   "cell_type": "code",
   "execution_count": null,
   "metadata": {
    "id": "VzgswFyjm_Tw"
   },
   "outputs": [],
   "source": [
    "# Reading the CSV File to be tagged #\n",
    "print('-----------------------------------')\n",
    "print('Reading the CSV File to be tagged')\n",
    "datafile = \"/content/drive/MyDrive/tech-handover/tagging-automation/BERT Models/Accounts/CIPLA/Competitor/DRL/tagging_task.csv\"\n",
    "df = pd.read_csv(datafile)\n",
    "print('Length of dataframe \"df\" is : ',len(df))\n",
    "print('CSV file read successfully and store in \"df\".')\n",
    "print('-----------------------------------')\n",
    "print('Reading the text, storing in \"text_mention.\"')\n",
    "text_mention = [str(text) for text in df['text'].tolist()]\n",
    "print('Length of \"text to be tagged\" column is : ',len(text_mention))\n",
    "print('Reading successful.')\n",
    "print('-----------------------------------')"
   ]
  },
  {
   "cell_type": "code",
   "execution_count": null,
   "metadata": {
    "id": "46WojhaGnKD9"
   },
   "outputs": [],
   "source": [
    "# Defining Functions #\n",
    "print('-----------------------------------')\n",
    "print('Defining the function for Sentiment Tagging.')\n",
    "def predict_sentiment(text, model, tokenizer, device, max_length=512):\n",
    "    model.eval()\n",
    "    encoding = tokenizer(text, return_tensors='pt', max_length=max_length, padding='max_length', truncation=True)\n",
    "    input_ids = encoding['input_ids'].to(device)\n",
    "    attention_mask = encoding['attention_mask'].to(device)\n",
    "\n",
    "    with torch.no_grad():\n",
    "        outputs = model(input_ids=input_ids, attention_mask=attention_mask)\n",
    "        _, preds = torch.max(outputs, dim=1)\n",
    "    return \"Neutral\" if preds.item() == 2 else \"Positive\" if preds.item() == 1 else \"Negative\"\n",
    "print('Function Defined for Sentiment Tagging.')\n",
    "print('-----------------------------------')"
   ]
  },
  {
   "cell_type": "code",
   "execution_count": null,
   "metadata": {
    "id": "SJB7anXanaJd"
   },
   "outputs": [],
   "source": [
    "# Defining the BERT Classifier Class #\n",
    "print('-----------------------------------')\n",
    "print('Defining the BERT Classifier Class')\n",
    "class BERTClassifier(nn.Module):\n",
    "    def __init__(self, bert_model_name, num_classes):\n",
    "        super(BERTClassifier, self).__init__()\n",
    "        self.bert = BertModel.from_pretrained(bert_model_name)\n",
    "        self.dropout = nn.Dropout(0.1)\n",
    "        self.fc = nn.Linear(self.bert.config.hidden_size, num_classes)\n",
    "\n",
    "    def forward(self, input_ids, attention_mask):\n",
    "        outputs = self.bert(input_ids=input_ids, attention_mask=attention_mask)\n",
    "        pooled_output = outputs.pooler_output\n",
    "        x = self.dropout(pooled_output)\n",
    "        logits = self.fc(x)\n",
    "        return logits\n",
    "print('BERT Classifier Defined Succesfully.')\n",
    "print('-----------------------------------')"
   ]
  },
  {
   "cell_type": "code",
   "execution_count": null,
   "metadata": {
    "id": "WiJWbUVNnbW0"
   },
   "outputs": [],
   "source": [
    "print('-----------------------------------')\n",
    "print('Loading the Models along with the Specs.')\n",
    "bert_model_name = 'bert-base-multilingual-uncased'\n",
    "num_classes_sentiment = 3\n",
    "max_length = 512\n",
    "batch_size = 16\n",
    "learning_rate = 2e-5\n",
    "device = torch.device(\"cuda\" if torch.cuda.is_available() else \"cpu\")\n",
    "# device = \"cpu\"\n",
    "print('-----------------------------------')\n",
    "print('Loading the Sentiment Model.....')\n",
    "sentiment_model_path = F\"/content/drive/MyDrive/tech-handover/tagging-automation/BERT Models/Accounts/CIPLA/Competitor/DRL/cipla-competitor-drl-sentiment-v23.12.13-89.pt\"\n",
    "sentiment_model = BERTClassifier(bert_model_name, num_classes_sentiment).to(device)\n",
    "# sentiment_model.load_state_dict(torch.load(sentiment_model_path, map_location=torch.device('cpu')))\n",
    "sentiment_model.load_state_dict(torch.load(sentiment_model_path))\n",
    "sentiment_model.eval()\n",
    "print('Sentiment Model Loaded.')\n",
    "print('-----------------------------------')\n",
    "tokenizer = BertTokenizer.from_pretrained(bert_model_name)\n",
    "print('Tokenizer Loaded as well.')\n",
    "print('-----------------------------------')"
   ]
  },
  {
   "cell_type": "code",
   "execution_count": null,
   "metadata": {
    "id": "n4BJdqy8n1_M"
   },
   "outputs": [],
   "source": [
    "# Prediction\n",
    "print('Processing the file and generating the Output.')\n",
    "final_pred_sentiment = []\n",
    "ist_timezone = pytz.timezone('Asia/Kolkata')\n",
    "start_time = time.time()\n",
    "start_time_ist = datetime.fromtimestamp(start_time, ist_timezone)\n",
    "print(f\"TAGGING started at: {start_time_ist.strftime('%a %b %d %I:%M %p %Y')}\")\n",
    "mention_count = 0  # Initialize mention count\n",
    "for i in range(len(text_mention)):\n",
    "  text = str(text_mention[i])\n",
    "  print(\"Mentions done -> \",i+1,\"/\",len(text_mention))\n",
    "  output_sentiment = predict_sentiment(text, sentiment_model, tokenizer, device, max_length=512)\n",
    "  final_pred_sentiment.append(output_sentiment)\n",
    "  mention_count += 1  # Increment mention count\n",
    "end_time = time.time()\n",
    "end_time_ist = datetime.fromtimestamp(end_time, ist_timezone)\n",
    "epoch_time = end_time - start_time\n",
    "speed_per_mention = epoch_time / mention_count\n",
    "minutes, seconds = divmod(int(epoch_time), 60)\n",
    "print('Your Tagging Job is Done.')\n",
    "print(f\"TAGGING ended at: {end_time_ist.strftime('%a %b %d %I:%M %p %Y')}\")\n",
    "print(f\"Time taken for TAGGING: {minutes} minutes and {seconds} seconds\")\n",
    "print(f\"Speed of prediction per mention: {speed_per_mention:.2f} seconds/mention\")\n",
    "cost_minutes = minutes+1\n",
    "final_cost = cost_minutes * 0.45\n",
    "print(f\"Cost of predicition: {final_cost} INR\")\n",
    "final_df = pd.DataFrame({'text - mention': df['text'], 'tag - sentiment': final_pred_sentiment})\n",
    "file_name = f'{current_date}-cipla-comp-drl-output.xlsx'\n",
    "sheet_name = 'final_output'\n",
    "google_drive_path = \"/content/drive/MyDrive/tech-handover/tagging-automation/BERT Models/Accounts/CIPLA/Competitor/DRL/\"\n",
    "file_path = os.path.join(google_drive_path, file_name)\n",
    "final_df.to_excel(file_path, sheet_name=sheet_name, index=False)"
   ]
  }
 ],
 "metadata": {
  "colab": {
   "authorship_tag": "ABX9TyMCh77YgFajofQ9uQ9MJ4Iy",
   "provenance": []
  },
  "kernelspec": {
   "display_name": "Python 3",
   "name": "python3"
  },
  "language_info": {
   "name": "python"
  }
 },
 "nbformat": 4,
 "nbformat_minor": 0
}
