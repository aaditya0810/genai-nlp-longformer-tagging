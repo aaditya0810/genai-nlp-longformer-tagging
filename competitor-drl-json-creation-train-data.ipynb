{
 "cells": [
  {
   "cell_type": "code",
   "execution_count": null,
   "metadata": {
    "colab": {
     "base_uri": "https://localhost:8080/"
    },
    "executionInfo": {
     "elapsed": 4120,
     "status": "ok",
     "timestamp": 1719203613567,
     "user": {
      "displayName": "DS Projects",
      "userId": "16958030021818370262"
     },
     "user_tz": -330
    },
    "id": "jnJ0Ek8DgOaH",
    "outputId": "0786c074-c5c4-4760-c6c6-ee44a5cda35a"
   },
   "outputs": [
    {
     "name": "stdout",
     "output_type": "stream",
     "text": [
      "-----------------------------------\n",
      "Importing the relevant Libraries and mounting Google Drive.\n",
      "Drive already mounted at /content/drive; to attempt to forcibly remount, call drive.mount(\"/content/drive\", force_remount=True).\n",
      "Mounted Google Drive.\n",
      "JSONL file has been saved to /content/drive/MyDrive/tech-handover/tagging-automation/BERT Models/Accounts/CIPLA/Competitor/DRL/jsonl files/cipla-competitor-drl-sentiment-train-data-v24.06.24.jsonl\n"
     ]
    }
   ],
   "source": [
    "#Aadi\n",
    "# Importing the relevant Libraries and mounting Google Drive. #\n",
    "print('-----------------------------------')\n",
    "print('Importing the relevant Libraries and mounting Google Drive.')\n",
    "from google.colab import drive\n",
    "drive.mount('/content/drive')\n",
    "print('Mounted Google Drive.')\n",
    "import pandas as pd\n",
    "import json\n",
    "\n",
    "s_excel_file_path = '/content/drive/MyDrive/tech-handover/tagging-automation/BERT Models/Accounts/CIPLA/Competitor/DRL/excel files/cipla-competitor-drl-sentiment-train-data-v23.12.13.csv'\n",
    "\n",
    "s_df = pd.read_csv(s_excel_file_path)\n",
    "\n",
    "s_jsonl_file_path = '/content/drive/MyDrive/tech-handover/tagging-automation/BERT Models/Accounts/CIPLA/Competitor/DRL/jsonl files/cipla-competitor-drl-sentiment-train-data-v24.06.24.jsonl'\n",
    "\n",
    "with open(s_jsonl_file_path, 'w', encoding='utf-8') as jsonl_file:\n",
    "    for _, row in s_df.iterrows():\n",
    "        json_obj = {\n",
    "            \"messages\": [\n",
    "                {\n",
    "                    \"role\": \"user\",\n",
    "                    \"content\": f'{row[\"text\"]}.\\n\\nPlease classify the above mention as follows:\\n\\n'\n",
    "                },\n",
    "                {\n",
    "                    \"role\": \"model\",\n",
    "                    \"content\": row[\"Sentiment\"]\n",
    "                }\n",
    "            ]\n",
    "        }\n",
    "        jsonl_file.write(json.dumps(json_obj, ensure_ascii=False) + '\\n')\n",
    "\n",
    "print(f'JSONL file has been saved to {s_jsonl_file_path}')\n"
   ]
  },
  {
   "cell_type": "code",
   "execution_count": null,
   "metadata": {
    "executionInfo": {
     "elapsed": 4,
     "status": "aborted",
     "timestamp": 1719203594180,
     "user": {
      "displayName": "DS Projects",
      "userId": "16958030021818370262"
     },
     "user_tz": -330
    },
    "id": "T6sll5oVg-vw"
   },
   "outputs": [],
   "source": []
  }
 ],
 "metadata": {
  "colab": {
   "authorship_tag": "ABX9TyNNME9SoO82hMiR+NlRNG5i",
   "provenance": []
  },
  "kernelspec": {
   "display_name": "Python 3",
   "name": "python3"
  },
  "language_info": {
   "name": "python"
  }
 },
 "nbformat": 4,
 "nbformat_minor": 0
}
